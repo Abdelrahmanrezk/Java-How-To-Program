{
 "cells": [
  {
   "cell_type": "markdown",
   "metadata": {},
   "source": [
    "# Java How to Program\n",
    "\n",
    "## Early Objects\n",
    "\n",
    "## TENTH EDITION\n",
    "\n",
    "### Paul Deitel & Harvey Deitel\n",
    "\n",
    "## Chapter 3 Introduction to Classes, Objects, Method and String"
   ]
  },
  {
   "cell_type": "markdown",
   "metadata": {},
   "source": [
    "# Introduction\n",
    "\n",
    "We looked previously about how to take object from predefined class that java has and from this object we use the methods associated with this object, but what we doing here is to create our own class and use some objects from this class, then we can use the methods we will create inside.\n",
    "\n",
    "We will use simple real world example we will create from scratch which is Class **Account**, as we know each account is associated with some private data like the balance and the account holder.\n",
    "\n",
    "We will use for now instance variable for the account holder and its a type string, the **instance variable** maintain data for each object on its own."
   ]
  },
  {
   "cell_type": "raw",
   "metadata": {},
   "source": [
    "// Account.java\n",
    "// Account class that contain a name instance vraible\n",
    "// and methods to set and get its value\n",
    "\n",
    "    public class Account\n",
    "    {\n",
    "        private String name; // name: instance private variables\n",
    "\n",
    "        /* setName: Set the account username. */\n",
    "        public void setName(String name)\n",
    "        {\n",
    "            this.name = name;\n",
    "        }\n",
    "\n",
    "        /* getName: Return the account username. */\n",
    "        public String getName()\n",
    "        {\n",
    "            return this.name;\n",
    "        } \n",
    "    } // End of Account class"
   ]
  },
  {
   "cell_type": "markdown",
   "metadata": {},
   "source": [
    "## Class Declaration\n",
    "\n",
    "\n",
    " Public class Account{\n",
    " \n",
    " } // End of Account class\n",
    " \n",
    " Every Java program should contain at least one class\n",
    " \n",
    " - public, is access modifier we will go in deeper in this but not now\n",
    " - class, is the keyword to start your declartion of a class\n",
    " - Account,  is the class name and start with capital letter and the file name should be as same as class name with .java as extenation.\n",
    " - The braces is the start and end of the class body\n",
    " \n",
    " So java class is start with class keyword followed by the name of the class which start with capital letter and should you have the file with same name followed by .java\n",
    " \n",
    "**Java is case sensitive so Welcome1 is a class name and welcome1 is another class.**\n",
    "\n",
    "##  Instance Variable\n",
    "\n",
    "Each object(instance of class) has its own instance variable which maintain the object data, these instance variable are declared **inside class** but **outside methods**, and more convenient way to put it before methods.\n",
    "\n",
    "**Private String name**, private is another access modifier like public, but we should know for now that any private instance variables are only accessible to method of the class, so it can not directly accessed by the object you take from the class its accessed by the methods of the object.\n",
    "\n",
    "## setName Methods of class Account\n",
    "\n",
    "public void setName(String name) **==> This line refer to Method header**\n",
    "{\n",
    "\n",
    "this.name = name;           \n",
    "    \n",
    "}\n",
    "\n",
    "The method header contain:\n",
    "\n",
    "Returned Type, which before the name of method **setName**, this type till the method which type of information should return to its caller, but here the keyword **void** means this method return no information to its caller and as we can see by the end of method there is no **return keyword**, it just do some operation.\n",
    "\n",
    "Method Paramters, the **setName** receive an parameters when the method call and we can see these parmater between the **parenthes**, if there are multiple parameter **parameter list**, we should seprate each of them using **,** comaa, then each of these paramter should contain the **type** in this case **string** and the name of the variable in this case **name**.\n",
    "\n",
    "After the **Method Header**:\n",
    "\n",
    "We have the method body closed in {}, **braces**, which may contain multiple statements but as we can see here it just contain one statement.\n",
    "\n",
    "\n",
    "### Note !\n",
    "\n",
    "The **name** parameter is local variable while the **name** instance variable are global variable where you can use inside anywhere in the class, but if the method have two variable with same name, one local and other is instance of the class the method here use its local, so we refer to the instance by the word **this** which associated with the object and use the instance variable of the class.\n",
    "\n",
    "\n",
    "## getName Methods of class Account\n",
    "\n",
    "public String getName() // Method header\n",
    "{\n",
    "return this.name;\n",
    "} \n",
    "\n",
    "We can notice here the return type is **String** then this method should contain in the end the return keyword, and should return a **string**, and as we can see it return the name instance variable which is String.\n",
    "\n",
    "The **return** keyword pass the **string name** to the methods caller.\n"
   ]
  },
  {
   "cell_type": "markdown",
   "metadata": {},
   "source": [
    "# Account Test\n",
    "\n",
    "We can not use the Account class hence we do not have the main method yet, so in most case we use a **Driver Class** to test the class we create to separate your work and this Test class will contain the main method, or we will need to create the main method inside the **Account Class**"
   ]
  },
  {
   "cell_type": "raw",
   "metadata": {},
   "source": [
    "// AcountTest.java\n",
    "// Creating and mainpulting an Account object\n",
    "import java.util.Scanner;\n",
    "\n",
    "public class AcountTest\n",
    "{\n",
    "    // create a scanner object \n",
    "    Scanner input = new Scanner(system.in);\n",
    "    \n",
    "    //Create account object\n",
    "    Account myAccount = new Account();\n",
    "    \n",
    "    // Display intial value of the name\n",
    "    System.out.printf(\"Initial name is: %s%n%n\", myAccount.getName());\n",
    "    \n",
    "    //Prompt for read\n",
    "    System.out.println(\"Please enter the account name:\");\n",
    "    String name = input.nextLine();\n",
    "    myAccount.setName(name); // set the account name\n",
    "    \n",
    "    System.out.printf(\"Name of this account is: %n%s%n\", myAccount.getName());\n",
    "    \n",
    "}\n"
   ]
  },
  {
   "cell_type": "markdown",
   "metadata": {},
   "source": [
    "javac *.java for compile multiple files\n",
    "\n",
    "<img src=\"UML/chapter_3_Account1.png\">\n",
    "\n"
   ]
  },
  {
   "cell_type": "markdown",
   "metadata": {},
   "source": [
    "# default types\n",
    "\n",
    "Each type of data has its own default value, and for string as we can see when we call the method get name we get null because there is no name for this object yet, but once we set this instance variable and call the method again, we can see the result.\n",
    "\n",
    "The **Scanner Object**, as we talked before scanner object have different methods for different data types, we work with integer before with method **nextInt** but here we have **nextLine**, which accept and characters you write until you press the **enter character**, then this method return to its caller the text you write including anything except the **enter charater**.\n",
    "\n",
    "# How calls work\n",
    "\n",
    "When you call some any method in the main method this is actually happen:\n",
    "- The app transfer execution from which line in the main, to the method that you call.\n",
    "- After this method perform its task, the caller wait to finish then if the method return it will take the value to the caller, otherwise wait the method to finish, then return to next line after the call.\n"
   ]
  },
  {
   "cell_type": "markdown",
   "metadata": {
    "collapsed": true
   },
   "source": [
    "# UML Graph\n",
    "\n",
    "<<>> Define constructor in UML\n",
    "- **-** Define Private status\n",
    "- **+** Define public status\n",
    "\n",
    "Account class that contain:\n",
    "Everything created is defined at the beginning of the function or beside the instance variables.\t\t \t\n",
    "\n",
    "Instance private Variables:\n",
    "    - name: String\n",
    "Constructors:\n",
    "public Methods:\n",
    "    + setName(name :String)\n",
    "    + getName(): String\n",
    "    \n",
    "**Graph represent UML associated with conceptual view of an Account objects with Encapsulating Data**\n",
    "\n",
    "<img src=\"UML/Uml_1.png\">"
   ]
  },
  {
   "cell_type": "markdown",
   "metadata": {
    "collapsed": true
   },
   "source": [
    "# Primitive Types Vs. Reference Type\n",
    "\n",
    "Primitive lost the values its hold when you assign new values which means it can only hold one value at a time, and these Primitive type are initialized by default value which is 0 for most of them, like int, double, float, char and for boolean is false, but we should know that these default values are assigned when you create the instance variable without assign initialization value, and also **Local Variable are not initialized by default value**\n",
    "\n",
    "Reference Type like **String** classes you create, or object you use like **Scanner** are all of Reference Types."
   ]
  },
  {
   "cell_type": "markdown",
   "metadata": {
    "collapsed": true
   },
   "source": [
    "# Account Class: Initializing objects with constructors\n",
    "\n",
    "Each class you declare can optionalyy provide a constructor with paramters that can be used to inilize an object of the class when the object is created, and actually when you do not create any constructor java create a deafult one for you which set the instance variables of your object to its default values as we saw above **null** for String.\n",
    "\n",
    "\n"
   ]
  },
  {
   "cell_type": "raw",
   "metadata": {
    "collapsed": true
   },
   "source": [
    "// Account.java\n",
    "// Account class with constructor that initializes the name.\n",
    "\n",
    "    public class Account\n",
    "    {\n",
    "        private String name; // name: instance private variables\n",
    "        \n",
    "        // constructor initializes name with paramter name\n",
    "        public Account(String name)\n",
    "        {\n",
    "            this.name = name;\n",
    "        }\n",
    "        /* setName: Set the account username. */\n",
    "        public void setName(String name)\n",
    "        {\n",
    "            this.name = name;\n",
    "        }\n",
    "\n",
    "        /* getName: Return the account username. */\n",
    "        public String getName()\n",
    "        {\n",
    "            return this.name;\n",
    "        } \n",
    "    } // End of Account class"
   ]
  },
  {
   "cell_type": "markdown",
   "metadata": {},
   "source": [
    "# Account Constructor Declaration\n",
    "\n",
    "\n",
    "To create constructor just you same as method but without **return** and should have the same name of the class, but is different in the parameters.\n",
    "\n",
    "Then this paramter will be passed when you create an object from the Account class, then the constructor will set this name to **name instance variable**."
   ]
  },
  {
   "cell_type": "raw",
   "metadata": {},
   "source": [
    "// AcountTest.java\n",
    "// Creating and mainpulting an Account object\n",
    "import java.util.Scanner;\n",
    "\n",
    "public class AccountTest\n",
    "{\n",
    "    public static void main(String[] args) {\n",
    "         // create a scanner object \n",
    "    Scanner input = new Scanner(System.in);\n",
    "    \n",
    "    //Create 2 account object\n",
    "    Account account1 = new Account(\"Abdelrahman\");\n",
    "    Account account2 = new Account(\"Rezk\");\n",
    "    // Display intial value of the name\n",
    "    System.out.printf(\"Name of account1 is: %s%n%n\", account1.getName());\n",
    "\n",
    "    System.out.printf(\"Name of account1 is: %s%n\", account2.getName());   \n",
    "   }\n",
    "    \n",
    "}"
   ]
  },
  {
   "cell_type": "markdown",
   "metadata": {},
   "source": [
    "<img src=\"UML/chapter_3_account2.png\">"
   ]
  },
  {
   "cell_type": "markdown",
   "metadata": {},
   "source": [
    "# Note !\n",
    "\n",
    "Once we are create any constructor in the class, then there is no default construcor java will provide you because of that you should respect the constructor when you take an object from."
   ]
  },
  {
   "cell_type": "markdown",
   "metadata": {},
   "source": [
    "# UML with constructor\n",
    "<img src=\"UML/uml_2_ch_3.png\">"
   ]
  },
  {
   "cell_type": "markdown",
   "metadata": {},
   "source": [
    "# Account Class with Balance, Floating-point\n",
    "\n",
    "After we have know more about how to create class, take object from the class, know about instance variables, methods and uml, now we can make the Account class more bigger by include the balance for each Account, this will require some method like check balance, withdraw from your account and others.\n",
    "\n",
    "## UML \n",
    "\n",
    "Once we have the **UML** we should know how to create the class, uml is a big picture of what we need then we just convert this uml to code in no time.\n",
    "\n",
    "<img src=\"UML/second_image.png\">"
   ]
  },
  {
   "cell_type": "markdown",
   "metadata": {},
   "source": [
    "## Floating-point\n",
    "\n",
    "double is another primitive data type which hold default value 0.0 and as we can see this data type can hold numbers with floating point like 10.8 and others nad its size is 8-byte.\n",
    "\n",
    "<<>> Define constructor in UML\n",
    "- **-** Define Private status\n",
    "- **+** Define public status\n",
    "\n",
    "Account class that contain:\n",
    "    Everything created is defined at the beginning of the function or beside the instance variables.\t\t \t\n",
    "\n",
    "    Instance private Variables:\n",
    "        - name: String\n",
    "        - balance: double\n",
    "    Constructors:\n",
    "        <<Constructor 1>> Account(name: String)\n",
    "    public Methods:\n",
    "        + setName(name :String)\n",
    "        + getName(): String\n",
    "        + deposit(depositAccount: double)\n",
    "        + drawing(drawAccount: double)\n",
    "        + getBalance(): double\n",
    "    The instance private variable name can be accessed throughout the method.\n",
    "    also, we may not use the keyword this and make name = name direct but it's not good practice\n",
    "\n",
    "\n",
    "# Note !\n",
    "\n",
    "**The code is documented with multiple of comments**"
   ]
  },
  {
   "cell_type": "raw",
   "metadata": {},
   "source": [
    "public class Account{\n",
    "\n",
    "\t// name: instance private variables\n",
    "\tprivate String name; \n",
    "\tprivate double balance;\n",
    "\n",
    "\t// Account Constructor 1\n",
    "\tpublic Account(String name, double balance){\n",
    "\t/*\n",
    "\tConstructor 1: That set name to default value that user pass when create an Object from Account Class.\n",
    "\t*/\n",
    "\t\tthis.name \t = name;\n",
    "\t\tif(balance > 0)\n",
    "\t\t\tthis.balance = balance;\n",
    "\t}\n",
    "\n",
    "\t\t/*\n",
    "\t\t\t-------------------------- Start methods that access  private variable name \n",
    "\t\t*/\n",
    "\tpublic void setName(String name){\n",
    "\t/* setName: Set the account username. */\n",
    "\t\tthis.name = name;\n",
    "\t}\n",
    "\n",
    "\tpublic String getName(){\n",
    "\t/* getName: Return the account username. */\n",
    "\t\treturn name;\n",
    "\t}\n",
    "\t\t/*\n",
    "\t\t\t-------------------------- End methods that access  private variable name -------------------- \n",
    "\t\t*/\n",
    "\n",
    "\t\t/*\n",
    "\t\t\t-------------------------- Start methods that access  private variable balance -------------------- \n",
    "\t\t*/\n",
    "\n",
    "\tpublic void deposit(double depositAccount){\n",
    "\t/*\n",
    "\tdeposit: Add new ammount of balance to the current ammount of user account.\n",
    "\t*/\n",
    "\t\tif(depositAccount > 0) // Valid deposit will be add other not because of negative values\n",
    "\t\t\tbalance += depositAccount;\n",
    "\n",
    "\t}\n",
    "\n",
    "\tpublic void drawing(double drawAccount){\n",
    "\t/*\n",
    "\tdrawing: Decrease the current balance of user money..\n",
    "\t*/\n",
    "\t\tif(drawAccount <= this.balance) // Valid if user has the amount of money need to draw\n",
    "\t\t\tthis.balance -= drawAccount;\n",
    "\t}\n",
    "\n",
    "\tpublic double getBalance(){\n",
    "\t/*\n",
    "\tgetBalance: Return the current user balance.\n",
    "\t*/\n",
    "\t\treturn this.balance;\n",
    "\t}\n",
    "\t\t/*\n",
    "\t\t\t-------------------------- End methods that access  private variable balance -------------------- \n",
    "\t\t*/\n",
    "}"
   ]
  },
  {
   "cell_type": "raw",
   "metadata": {},
   "source": [
    "\n",
    "import java.util.Scanner;\n",
    "public class AccountTest{\n",
    "\t/*\n",
    "\t\tAccount Test that creating and maintain the Account class\n",
    "\t*/\n",
    "\tpublic static void main(String [] args){\n",
    "\n",
    "\t\tAccount account1 = new Account(\"Abdelrahman Rezk\", 50.00);\n",
    "\t\tAccount account2 = new Account(\"Abdallah Ezz\", -50.00);\n",
    "\n",
    "\t\tSystem.out.printf(\"The Account hodler name is: %s%nAnd his account balance is: %.2f%n\", \n",
    "\t\t\taccount1.getName(), account1.getBalance());\n",
    "\n",
    "\t\tSystem.out.printf(\"The Account holder name is: %s%nAnd his account balance is: %.2f%n\",\n",
    "\t\t\taccount2.getName(), account2.getBalance());\n",
    "\n",
    "\t\t// Create scnner object\n",
    "\t\tScanner input = new Scanner(System.in);\n",
    "\n",
    "\t\t// Read from user keyboard\n",
    "\t\tSystem.out.print(\"Enter the account1 deposit: \");\n",
    "\t\tdouble depositBalance = input.nextDouble();\n",
    "\t\tSystem.out.printf(\"%nAdding %.2f to account1 balance %n\", depositBalance);\n",
    "\n",
    "\t\taccount1.deposit(depositBalance);\n",
    "\t\tSystem.out.printf(\"Dear: %s your balance is: %.2f%n\", account1.getName(), account1.getBalance());\n",
    "\n",
    "\t\tSystem.out.print(\"Enter the account2 deposit: \");\n",
    "\t\tdepositBalance = input.nextDouble();\n",
    "\t\tSystem.out.printf(\"%nAdding %.2f to account2 balance \\n\", depositBalance);\n",
    "\t\taccount2.deposit(depositBalance);\n",
    "\t\t\n",
    "\t\tSystem.out.printf(\"Dear: %s your balance is: %.2f%n\", account1.getName(), account1.getBalance());\n",
    "\t\tSystem.out.printf(\"Dear: %s your balance is: %.2f%n\", account2.getName(), account2.getBalance());\n",
    "\n",
    "\t\t\n",
    "\t}\n",
    "}"
   ]
  },
  {
   "cell_type": "markdown",
   "metadata": {},
   "source": [
    "<img src=\"UML/ch_3_Account_with_balance.png\">"
   ]
  },
  {
   "cell_type": "markdown",
   "metadata": {
    "collapsed": true
   },
   "source": [
    "# GUI for Display\n",
    "\n",
    "Instead of using terminal to represent result we use GUI to represent your message in.\n",
    "Java provide swing library with its JOptionPane class to help us represent this GUI.\n",
    "Dialog box is just like the Gmail you use to write your e-mail and send to some one,\n",
    "also its looks like the window of Firefox and other programs.\n",
    "\n",
    "<img src=\"UML/ch_3_gui1.png\">"
   ]
  },
  {
   "cell_type": "raw",
   "metadata": {},
   "source": [
    "// Dialog1.java\n",
    "// Using JOptionPane to display Multiple lines in a dialog box.\n",
    "import javax.swing.JOptionPane;\n",
    "\n",
    "public class Dialog1\n",
    "{\n",
    "\tpublic static void main(String [] args)\n",
    "\t{\n",
    "\t\t// Display a dialog with message\n",
    "\t\tJOptionPane.showMessageDialog(null, \"Welcome To Java GUI\");\n",
    "\t} // End of Main method\n",
    "} // End of Dialog Class"
   ]
  },
  {
   "cell_type": "markdown",
   "metadata": {},
   "source": [
    "# JOptionPane class static method showMessageDialog\n",
    "\n",
    "The program use JOptionPane class from package javax.swing, this package contain different classes for helping you create GUI, some GUI acting to take input from user in some inputs, but here showMessageDialog method is static method that disply to user a message also, in first paramters which was **null** we can define the place on the screen to display the message.\n",
    "\n",
    "**static Method** is provided by designer of class JOptionPane to help you to perform task without **reinventing the wheel**, just call the method, and as we can see static method is called without take an object from the class, and this because it's available to any class to use this method not just JOptionPane.\n"
   ]
  },
  {
   "cell_type": "markdown",
   "metadata": {},
   "source": [
    "# GUI with user entry\n",
    "\n",
    "Also the JOptionPane provide you with static method that help you to enter some data.\n"
   ]
  },
  {
   "cell_type": "raw",
   "metadata": {},
   "source": [
    "// NameDialog.java\n",
    "// Obtaining user input from a dialog\n",
    "import javax.swing.JOptionPane;\n",
    "\n",
    "public class NameDialog\n",
    "{\n",
    "\tpublic static void main(String [] args)\n",
    "\t{\n",
    "\t\t// Prompt the message\n",
    "\t\tString name = JOptionPane.showInputDialog(\"What is Your Name ??\");\n",
    "\n",
    "\t\t// Create the message\n",
    "\t\tString message = String.format(\"Welcome, %s to Java GUI !!!!!\", name);\n",
    "\n",
    "\t\t// diesplay the name \n",
    "\t\tJOptionPane.showMessageDialog(null, message);\n",
    "\n",
    "\t} // End of Main method\n",
    "} // End of class NameDialog\n"
   ]
  },
  {
   "cell_type": "markdown",
   "metadata": {},
   "source": [
    "# showInputDialog\n",
    "\n",
    "Help user to enter some data and we can retrieve this data because the method is return the data that use input and we receive it in string then using **String format** we have design the message to display it using the **showMessageDialog** method.\n",
    "\n",
    "**String.format** is same as **system.out.printf**.\n",
    "\n",
    "- Input Name\n",
    "<img src=\"UML/ch_3_inputgui.png\">\n",
    "\n",
    "- Display Result\n",
    "\n",
    "<img src=\"UML/ch_3_after_enterinput.png\">"
   ]
  },
  {
   "cell_type": "raw",
   "metadata": {},
   "source": [
    "# Another App using GUI for Addition \n",
    "\n",
    "// AdditionGUI.java\n",
    "// AdditionGUI program that inputs two numbers and displays their sum.\n",
    "import javax.swing.JOptionPane;\n",
    "\n",
    "\n",
    "public class AdditionGUI\n",
    "{\n",
    "    // Main method ebgins execution of the program\n",
    "    public static void main(String[] args)\n",
    "    {\n",
    "        // Prompt for input numbers\n",
    "        \n",
    "        int number1 = Integer.parseInt(JOptionPane.showInputDialog(\"Please Input number 1\")); // first number to add\n",
    "        int number2 = Integer.parseInt(JOptionPane.showInputDialog(\"Please Input number 2 \")); // second number to add\n",
    "        int sum = number1 + number2; // sum of number1 and number2\n",
    "        \n",
    "        // Format the string for displaying\n",
    "        String message = String.format(\"The sum of %d and %d is: %d\", number1, number2, sum);\n",
    "        \n",
    "        // The Dialog Message\n",
    "        JOptionPane.showMessageDialog(null, message);\n",
    "        \n",
    "    } // End of main method\n",
    "} // End of class AdditionGUI\n"
   ]
  },
  {
   "cell_type": "markdown",
   "metadata": {},
   "source": [
    "Method **parse Int** from Integer class is used to convert string number to integer since there is no other character except numbers in the string.\n",
    "\n",
    "\n",
    "- Input number1\n",
    "<img src=\"UML/ch_3_addition_num1.png\">\n",
    "\n",
    "- Input number2\n",
    "\n",
    "<img src=\"UML/ch_3_add_num2.png\">\n",
    "\n",
    "- Display their Sum\n",
    "\n",
    "<img src=\"UML/ch_3_resul_sum1.png\">"
   ]
  },
  {
   "cell_type": "markdown",
   "metadata": {},
   "source": [
    "# ----------------------------------------تم بحمد الله-----------------------------------"
   ]
  },
  {
   "cell_type": "code",
   "execution_count": null,
   "metadata": {
    "collapsed": true
   },
   "outputs": [],
   "source": []
  }
 ],
 "metadata": {
  "kernelspec": {
   "display_name": "Python 3",
   "language": "python",
   "name": "python3"
  },
  "language_info": {
   "codemirror_mode": {
    "name": "ipython",
    "version": 3
   },
   "file_extension": ".py",
   "mimetype": "text/x-python",
   "name": "python",
   "nbconvert_exporter": "python",
   "pygments_lexer": "ipython3",
   "version": "3.6.3"
  }
 },
 "nbformat": 4,
 "nbformat_minor": 2
}
