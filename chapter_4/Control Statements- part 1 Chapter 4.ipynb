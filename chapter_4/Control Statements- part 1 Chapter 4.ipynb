{
 "cells": [
  {
   "cell_type": "markdown",
   "metadata": {},
   "source": [
    "# Java How to Program\n",
    "\n",
    "## Early Objects\n",
    "\n",
    "## TENTH EDITION\n",
    "\n",
    "### Paul Deitel & Harvey Deitel\n",
    "\n",
    "## Chapter 4 Control Statements: Part 1; Assignments, ++, -- Operator."
   ]
  },
  {
   "cell_type": "markdown",
   "metadata": {},
   "source": [
    "# Algorithm & Pseudocode\n",
    "\n",
    "Before written a program to solve a problem, you should have a through understanding of the problem and carefully planned approach to solving it.\n",
    "\n",
    "Any problem can be executed through some of **actions** in some **Order**\n",
    "\n",
    "These actions and order to solve a problem can be described in informal language which is the language of **Algorithm** and it's called **Pseudocode**, it's like your daily English or can be formed using your main language.\n",
    "\n",
    "The **Pseudocode** does not execute on you computer it just language to describe how your **Algorithm** can be executed your program in the two main points **Actions** and **Order**, then you can write this in the programming language you need.\n",
    "\n"
   ]
  },
  {
   "cell_type": "markdown",
   "metadata": {},
   "source": [
    "# Control Structure\n",
    "\n",
    "In general program is executed in some of **statements**, these **statements** are executed one after the other, and this process is called **Sequential execution**.\n",
    "\n",
    "But java and other programming language help you to skip one or some of statements based on **Selection structure**, and it doing a process called **Transfer of Control**.\n",
    "\n",
    "As well as java help you to transfer you program and skip some statements, it also help you to repeat some statements which is called **Repetition Structure**.\n",
    "\n",
    "So program can be written using **3** main structure:\n",
    "\n",
    "- Sequence Structure\n",
    "- Selection structure\n",
    "- Repetition Structure\n",
    "\n",
    "The **Sequence Structure** as we said it executed on statement after the other to end of the program, but once there is **Selection structure**, it will transfer your program execution as the **Selection structure** tell the program, and some of statements will be repeated as **Repetition Structure** required**.\n",
    "\n",
    "<img src=\"UML/Program_sequence_selction_repeat.png\">"
   ]
  },
  {
   "cell_type": "markdown",
   "metadata": {},
   "source": [
    "# UML Activity Diagram\n",
    "\n",
    "Activity diagram is represent a portion of your program in the steps should be executed.\n",
    "\n",
    "- Solid Circle is the start of the program called (initial statement).\n",
    "- Solid Circle surrounded by a hollow circle called (final statement), the end of program.\n",
    "- Rectangle, for action statement.\n",
    "- Arrow, show how you should execute the program.\n",
    "- some comments like **java code with arrows**.\n",
    "- Diamond, or what we called  descision symbol for **Selection**\n",
    "- Guard Condition, which way the algorithm should take based on decision symbol.\n",
    "- Merge and Condition the two are same using Diamond, or what we called decision symbol."
   ]
  },
  {
   "cell_type": "markdown",
   "metadata": {},
   "source": [
    "## Selection Statements in java\n",
    "\n",
    "The **Selection Statements** in java are three types:\n",
    "\n",
    "- Signle-Selection just if ... statement\n",
    "- Double-Selection if ... else\n",
    "- Multiple-Selection like Switch\n",
    "\n",
    "The **Single-Selection** is just, if true do something, or skip this statements or block of statements(body).\n",
    "\n",
    "The **Double-Selection** is just, if true do something or block of statements(body)., else do another something or or block of statements(body).\n",
    "\n",
    "The **Multiple-Selection** is to choose one of the things to do or block of things to do(body).\n",
    "\n",
    "## Repetition Statements in java\n",
    "\n",
    "The **Repetition Statements** or **Iteration Statements** and **Looping Statements**, enable your program to repeat some something as your condition is true.\n",
    "\n",
    "Also three statements for **Repetition Statements** which are:\n",
    "\n",
    "- While\n",
    "- Do-while\n",
    "- For\n",
    "\n",
    "The different is that **While and For** do the repetition **0 or more**, but **do ..while** do it **one or more**.\n"
   ]
  },
  {
   "cell_type": "raw",
   "metadata": {},
   "source": [
    "# if Single-selection statement\n",
    "\n",
    "Suppose you need to know if you just fail in the exam.\n",
    "\n",
    "- Pseudocode\n",
    "\n",
    "if your grade less than 50\n",
    "\n",
    "    print \"failed\"\n",
    "    \n",
    "Now you are do Single-selection, once true do something otherwise will skip the print line., then the execution move to next statement in the sequence.\n",
    "\n",
    "- Java corresponding code\n",
    "\n",
    "if (grade < 50)\n",
    "    System.out.println(\"Failed\");\n",
    "\n",
    "\n"
   ]
  },
  {
   "cell_type": "markdown",
   "metadata": {},
   "source": [
    "- UML Graph\n",
    "\n",
    "\n",
    "<img src=\"UML/uml_ch_4_selction1.png\">\n",
    "\n",
    "\n",
    "As you can see it print **Failed** when the condition is **True**, then go to final statement (terminate program). other wise terminate the program go to final statement."
   ]
  },
  {
   "cell_type": "raw",
   "metadata": {},
   "source": [
    "# if ... else Double-selection statement\n",
    "\n",
    "Suppose you need to know if you pass **or** failed in the exam.\n",
    "\n",
    "- Pseudocode\n",
    "\n",
    "if your grade less than 50\n",
    "\n",
    "    print \"failed\"\n",
    "else\n",
    "    print \"passed\"\n",
    "    \n",
    "Now you are do Double-selection, once true do something else do another thing., then the execution move to next statement in the sequence.\n",
    "\n",
    "- Java corresponding code\n",
    "\n",
    "if (grade < 50)\n",
    "    System.out.println(\"Failed\");\n",
    "else\n",
    "    System.out.println(\"Passed\");"
   ]
  },
  {
   "cell_type": "markdown",
   "metadata": {},
   "source": [
    "    \n",
    "- UML Graph\n",
    "\n",
    "<img src=\"UML/double_ch_4_ifelse.png\">\n",
    "\n",
    "\n",
    "As you can see it print **Failed** when the condition is **True**, then go to final statement (terminate program). else ir print **Passed** then go to final statement (terminate program)."
   ]
  },
  {
   "cell_type": "raw",
   "metadata": {},
   "source": [
    "# Nested if .. else statements (Multiple Selection)\n",
    "\n",
    "We can have if .. else statements inside another if .. else statements.\n",
    "\n",
    "Like if you need to see what grade from [A, B, C, D, F] you have get then.\n",
    "\n",
    "\n",
    "- Pseudocode\n",
    "\n",
    "if your grade greater than or equal to 90\n",
    "\n",
    "    print \"A\"\n",
    "else\n",
    "    if grade greater than or equal to 80\n",
    "        print \"B\"\n",
    "    else\n",
    "        if grade greater than or equal to 70\n",
    "            print \"C\"\n",
    "        else\n",
    "            if grade greater than or equal to 60\n",
    "                print \"D\"\n",
    "            else\n",
    "                print \"F\"\n",
    "    \n",
    "Now you are do multiple-selection, once true do something else do another thing., then the execution move to next statement in the sequence.\n",
    "\n",
    "- Java corresponding code\n",
    "\n",
    "if (grade >= 90)\n",
    "    System.out.println(\"A\");\n",
    "else\n",
    "    if (grade >= 80)\n",
    "        System.out.println(\"B\");\n",
    "    else\n",
    "        if (grade >= 70)\n",
    "            System.out.println(\"C\");\n",
    "        else\n",
    "            if (grade >= 60)\n",
    "                System.out.println(\"D\");\n",
    "            else\n",
    "                System.out.println(\"F\");\n",
    "                \n",
    "- Another good form \n",
    "if (grade >= 90)\n",
    "    System.out.println(\"A\");\n",
    "else if (grade >= 80)\n",
    "    System.out.println(\"B\");\n",
    "else if (grade >= 70)\n",
    "    System.out.println(\"C\");\n",
    "else if (grade >= 60)\n",
    "    System.out.println(\"D\");\n",
    "else\n",
    "    System.out.println(\"F\");\n",
    "    \n",
    "\n"
   ]
  },
  {
   "cell_type": "raw",
   "metadata": {},
   "source": [
    "# Dangling-else problem\n",
    "\n",
    "if (x> 5)\n",
    "    if(y > 5)\n",
    "        System.out.println(\"X and Y are > 5\");\n",
    "else\n",
    "    System.out.println(\"X is <= 5\");\n",
    "    \n",
    "    \n",
    "The else is associated with nested if(second if which is if y>5) even you have some indetation, java ignore these indentation unless you specify this in {} bracases, because java compiler always associates an else with immeditaly preceding if.\n",
    "\n",
    "In this case if x > 5 and y not > 5 it will print x <= 5.\n",
    "\n",
    "So like in this case we can do it like that:\n",
    "\n",
    "if (x> 5)\n",
    "{\n",
    "    if(y > 5)\n",
    "        System.out.println(\"X and Y are > 5\");\n",
    "}\n",
    "else\n",
    "    System.out.println(\"X is <= 5\");"
   ]
  },
  {
   "cell_type": "raw",
   "metadata": {},
   "source": [
    "# Block of Code\n",
    "\n",
    "Each if or else or else if except that you have either one-line or block of lines, one line then no need to {}, but multiple line or block of code associated should have {}, and in general have {}.\n",
    "\n",
    "like this java code:\n",
    "\n",
    "if(grade >= 60)\n",
    "    System.out.println(\"Passed\");\n",
    "else\n",
    "{\n",
    "    System.out.println(\"Falied\");\n",
    "    System.out.println(\"You should take this course again\");\n",
    "}\n",
    "\n"
   ]
  },
  {
   "cell_type": "markdown",
   "metadata": {},
   "source": [
    "# Condition Operation\n",
    "\n",
    "As java provide you with **Unary** and **Binary** operator it also provide us with **ternary** operator, which is **?:** and it work with **Three operands, and write as follow:\n",
    "\n",
    "- Before **?** should have a condation like :(grade >= 60). (first operand)\n",
    "- After **?** Should have what you need in case of **True** like: System.out.println(\"Passed\"); (second operand)\n",
    "- After **:** Should have what you need in case of **False** like: System.out.println(\"Falied\"); (third operand)\n",
    "\n",
    "- Java Code\n",
    "\n",
    "**System.out.println(grade >= 60 ? \"Passed\" : \"\"Falied\");**\n",
    "\n"
   ]
  },
  {
   "cell_type": "markdown",
   "metadata": {},
   "source": [
    "# Student Class using if .. else statements"
   ]
  },
  {
   "cell_type": "code",
   "execution_count": null,
   "metadata": {
    "collapsed": true
   },
   "outputs": [],
   "source": []
  }
 ],
 "metadata": {
  "kernelspec": {
   "display_name": "Python 3",
   "language": "python",
   "name": "python3"
  },
  "language_info": {
   "codemirror_mode": {
    "name": "ipython",
    "version": 3
   },
   "file_extension": ".py",
   "mimetype": "text/x-python",
   "name": "python",
   "nbconvert_exporter": "python",
   "pygments_lexer": "ipython3",
   "version": "3.6.3"
  }
 },
 "nbformat": 4,
 "nbformat_minor": 2
}
