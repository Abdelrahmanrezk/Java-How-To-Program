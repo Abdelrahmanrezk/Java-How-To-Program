{
 "cells": [
  {
   "cell_type": "markdown",
   "metadata": {},
   "source": [
    "# Java How to Program\n",
    "\n",
    "## Early Objects\n",
    "\n",
    "## TENTH EDITION\n",
    "\n",
    "### Paul Deitel & Harvey Deitel\n",
    "\n",
    "## Chapter 1"
   ]
  },
  {
   "cell_type": "markdown",
   "metadata": {},
   "source": [
    "After the introudction about the java, Hardware and Software beside of Moores Law, Data Hierarchy which how data are from the 0,1 that computer accept to the Massive data todays **Big Data\".\n",
    "\n",
    "UML Graph below to display this Data Hierarchy:\n",
    "\n",
    "<img src=\"UML/Data_Hierarchy.png\">\n",
    "\n",
    "######  After the file, we have the database which represents in some ways some of the files or millions of records in tables, now days we talked about *Big Data*"
   ]
  },
  {
   "cell_type": "markdown",
   "metadata": {},
   "source": [
    "#  Introduction to Object Technology\n",
    "\n",
    "After some of these concepts, the author talked about I found that there are some of the most important points he talked about and the first one is the **1.5** section which talks about **Object Oriented**.\n",
    "\n",
    "- intro\n",
    "- Methods and classes\n",
    "- Instantiation\n",
    "- Reuse\n",
    "- Messages and Methods calls\n",
    "- Attributes & Instance Variables\n",
    "- Encalpsulation & Information Hiding\n",
    "- Inheritance\n",
    "- Interfaces\n",
    "- Object Oriendt Analysis & Design with UML"
   ]
  },
  {
   "cell_type": "markdown",
   "metadata": {},
   "source": [
    "# Introduction\n",
    "\n",
    "We should **Avoid reinventing the wheel**, this is the main part that we can take care of when we think in Object-Oriented Design, where we do not need to write the same method for each time we will use we can **reuse these methods**.  You also drive the different cars without relies on the mechanism of the methods you are dealing with you just know how to use but not how they are work.\n",
    "\n",
    "Now we have the time object we used from different libraries, do not need to recreate your own time object. We can represent the term object in the last of terms mentioned above like **Methods, Attributes & others**. So let us go on the methods and classes:\n",
    "\n"
   ]
  },
  {
   "cell_type": "markdown",
   "metadata": {},
   "source": [
    "# Methods and classes\n",
    "\n",
    "As we mentioned above you have to drive your car but you use some of method like increase the speed of the car you can use it but you do not know the mechanism of this, it's like using the gun but you do not know how its work, just you throw your enemy."
   ]
  },
  {
   "cell_type": "markdown",
   "metadata": {},
   "source": [
    "# Instantiation\n",
    "\n",
    "You will not have the ability to use the class methods or libraries object if you do now take Instantiation of them which we call object from the class or call the object of the library to be used for you.\n",
    "\n",
    "# Reuse\n",
    "\n",
    "Now once you have an instance of the class as we mentioned in Instantiation you have to resue the class methods and operation that the class handle, not only you, anyone will Instantiation of the class will have the ability to use, and everyone have their own of usage.\n",
    "\n",
    "# Message and Method calls\n",
    "\n",
    "You just send a message to the class to use the methods of it, just we means by that call the methods of the calls using the instance object you take from. \n",
    "\n",
    "# Attributes & Instance Variables\n",
    "\n",
    "Besides having the methods that perform some tasks also class may have some of the Attributes and Instance Variables to be used as the color of the car to display when user aimed to know the color of some types of cars you have in your Exhibition, the amount of the tank in your car to give the car driver alert when its need to fill.\n",
    "\n",
    "# Note !\n",
    "\n",
    "**Actually, some of the methods are working on those Attributes like get the type or color of the car.**"
   ]
  },
  {
   "cell_type": "markdown",
   "metadata": {},
   "source": [
    "# Encalpsulation & Information Hiding\n",
    "\n",
    "Every instance(object) of the class has their own of usage to methods and attributes but they also can communicate with another object, but they are not allowed how other objects are implemented, not just implementation details normally are hidden within the object themselves like most of the attributes, so we have use methods to communicate with the attributes of class which are private Attributes.\n",
    "\n",
    "UML Graph can represent like this Hiding information:\n",
    "\n",
    "<img src=\"UML/info_hiding.png\">\n"
   ]
  },
  {
   "cell_type": "markdown",
   "metadata": {},
   "source": [
    "# Note !\n",
    "\n",
    "**We will represent this graph again to explain all of the details contained but for now to represent the view of *Encapsulation and Information Hiding* **"
   ]
  },
  {
   "cell_type": "markdown",
   "metadata": {},
   "source": [
    "# Inheritance\n",
    "\n",
    "While we have the ability to take instances of the class and reuse them, we have the ability to edit some of the class methods, in either the header or the body of the methods, by customizing these methods according to your usage. The class you inherit from is called **Super Class** While your extended class is called **SubClass**.\n",
    "\n",
    "Image may take your attention to understand the view:\n",
    "\n",
    "<img src=\"UML/inhertance.png\">"
   ]
  },
  {
   "cell_type": "markdown",
   "metadata": {},
   "source": [
    "#  Interfaces\n",
    "\n",
    "Is a collection of methods that typically enable you to tell an object what to do not how to do it, interfaces are when you dealing with different types of car like the interface for turning, accelerating, and braking, but actually each type of car has its own of implementation.\n"
   ]
  },
  {
   "cell_type": "markdown",
   "metadata": {},
   "source": [
    "# Object Oriendt Analysis & Design with UML\n",
    "\n",
    "The last and most important part of this is this term OOAD with UML, while days of the university we take some hint about **UML** without the big picture of this term which is actually the most important part when we get into large system first thing to think about what the objective of our system is, how its looks like.\n",
    "\n",
    "when you work with large teams first thing starts to study the requirements not Sitting down and start writing the code, you need the time to study the view of the system how it should work, what is the functionality the system require, we should consider all of the client requirements.\n",
    "\n",
    "All of what we mentioned above have to be proven in the way of system design after collecting all of these requirements we start to analyze and design them, which we can combine together, some of the requirements may be ignored because we can use it from maybe library, but should be contained in your designed to remember it.\n",
    "\n",
    "The way we represent this design of analysis in is the **UML** Unified Model Languaged and actually from this UML you can write your code easily in no time, because each statement, variable, methods are considered in this graph, which you will just convert from its language to programing language that the computer can understand.\n",
    "\n",
    "<img src=\"UML/uml_of_class_moeny.jpg\">\n"
   ]
  },
  {
   "cell_type": "markdown",
   "metadata": {},
   "source": [
    "# A typical Java Development Environment\n",
    "\n",
    "After that the author has passed through different concepts from different operating systems to programming languages and Java itself as one of them, but also the key here is the development process that the program going on from the editor to you run the app.\n",
    "\n",
    "As we talked about this view in Java the program go through **Five Phases**:\n",
    "\n",
    "- Edit\n",
    "- Compile \n",
    "- Load\n",
    "- Verify\n",
    "- Execute\n",
    "\n",
    "## Edit\n",
    "\n",
    "When you opened the text editor you use and write the program to solve some problems.\n",
    "\n",
    "## Compile\n",
    "\n",
    "When you are finished and end from writing the code and start to compile from the language you use to the computer understanding language.\n",
    "\n",
    "You start edit in file with extension .java, then java compiler convert to .class extension which represent your program as bytecodes.\n",
    "\n",
    "## Load\n",
    "\n",
    "Run the program are load the bytecode you have write into the RAM or the memory of your machine.\n",
    "\n",
    "## Verify\n",
    "\n",
    "It's a time to check you code against Java security restriction to ensure that your code with a free bugs.\n",
    "\n",
    "## Execute\n",
    "\n",
    "When your program display the result of your code."
   ]
  },
  {
   "cell_type": "markdown",
   "metadata": {
    "collapsed": true
   },
   "source": [
    "# ----------------------------------------تم بحمد الله-----------------------------------"
   ]
  },
  {
   "cell_type": "code",
   "execution_count": null,
   "metadata": {
    "collapsed": true
   },
   "outputs": [],
   "source": []
  }
 ],
 "metadata": {
  "kernelspec": {
   "display_name": "Python 3",
   "language": "python",
   "name": "python3"
  },
  "language_info": {
   "codemirror_mode": {
    "name": "ipython",
    "version": 3
   },
   "file_extension": ".py",
   "mimetype": "text/x-python",
   "name": "python",
   "nbconvert_exporter": "python",
   "pygments_lexer": "ipython3",
   "version": "3.6.3"
  }
 },
 "nbformat": 4,
 "nbformat_minor": 2
}
