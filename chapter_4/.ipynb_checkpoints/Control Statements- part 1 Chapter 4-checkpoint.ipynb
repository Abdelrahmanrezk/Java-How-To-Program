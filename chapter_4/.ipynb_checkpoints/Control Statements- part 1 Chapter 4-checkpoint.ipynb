{
 "cells": [
  {
   "cell_type": "markdown",
   "metadata": {},
   "source": [
    "# Java How to Program\n",
    "\n",
    "## Early Objects\n",
    "\n",
    "## TENTH EDITION\n",
    "\n",
    "### Paul Deitel & Harvey Deitel\n",
    "\n",
    "## Chapter 4 Control Statements: Part 1; Assignments, ++, -- Operator."
   ]
  },
  {
   "cell_type": "markdown",
   "metadata": {},
   "source": [
    "# Algorithm & Pseudocode\n",
    "\n",
    "Before written a program to solve a problem, you should have a through understanding of the problem and carefully planned approach to solving it.\n",
    "\n",
    "Any problem can be executed through some of **actions** in some **Order**\n",
    "\n",
    "These actions and order to solve a problem can be described in informal language which is the language of **Algorithm** and it's called **Pseudocode**, it's like your daily English or can be formed using your main language.\n",
    "\n",
    "The **Pseudocode** does not execute on you computer it just language to describe how your **Algorithm** can be executed your program in the two main points **Actions** and **Order**, then you can write this in the programming language you need.\n",
    "\n"
   ]
  },
  {
   "cell_type": "markdown",
   "metadata": {},
   "source": [
    "# Control Structure\n",
    "\n",
    "In general program is executed in some of **statements**, these **statements** are executed one after the other, and this process is called **Sequential execution**.\n",
    "\n",
    "But java and other programming language help you to skip one or some of statements based on **Selection structure**, and it doing a process called **Transfer of Control**.\n",
    "\n",
    "As well as java help you to transfer you program and skip some statements, it also help you to repeat some statements which is called **Repetition Structure**.\n",
    "\n",
    "So program can be written using **3** main structure:\n",
    "\n",
    "- Sequence Structure\n",
    "- Selection structure\n",
    "- Repetition Structure\n",
    "\n",
    "The **Sequence Structure** as we said it executed on statement after the other to end of the program, but once there is **Selection structure**, it will transfer your program execution as the **Selection structure** in the program, and some of statements will be repeated as **Repetition Structure** required**.\n",
    "\n",
    "\n",
    "# Note !\n",
    "\n",
    "We should replace **yes** and **no** in last graph of the loops.\n",
    "\n",
    "<img src=\"UML/Program_sequence_selction_repeat.png\">"
   ]
  },
  {
   "cell_type": "markdown",
   "metadata": {},
   "source": [
    "# UML Activity Diagram\n",
    "\n",
    "Activity diagram is represent a portion of your program in the steps should be executed.\n",
    "\n",
    "- Solid Circle is the start of the program called (initial statement).\n",
    "- Solid Circle surrounded by a hollow circle called (final statement), the end of program.\n",
    "- Rectangle, for action statement.\n",
    "- Arrow, show how you should execute the program.\n",
    "- some comments like **java code with arrows**.\n",
    "- Diamond, or what we called  descision symbol for **Selection**\n",
    "- Guard Condition, which way the algorithm should take based on decision symbol.\n",
    "- Merge and Condition the two are same using Diamond, or what we called decision symbol."
   ]
  },
  {
   "cell_type": "markdown",
   "metadata": {},
   "source": [
    "## Selection Statements in java\n",
    "\n",
    "The **Selection Statements** in java are three types:\n",
    "\n",
    "- Signle-Selection just if ... statement\n",
    "- Double-Selection if ... else\n",
    "- Multiple-Selection like Switch\n",
    "\n",
    "The **Single-Selection** is just, if true do something, or skip this statements or block of statements(body).\n",
    "\n",
    "The **Double-Selection** is just, if true do something or block of statements(body)., else do another something or or block of statements(body).\n",
    "\n",
    "The **Multiple-Selection** is to choose one of the things to do or block of things to do(body).\n",
    "\n",
    "## Repetition Statements in java\n",
    "\n",
    "The **Repetition Statements** or **Iteration Statements** or **Looping Statements**, enable your program to repeat some something as your condition is true.\n",
    "\n",
    "Also three statements for **Repetition Statements** which are:\n",
    "\n",
    "- While\n",
    "- Do-while\n",
    "- For\n",
    "\n",
    "The different is that **While and For** do the repetition **0 or more**, but **do ..while** do it **one or more**.\n"
   ]
  },
  {
   "cell_type": "markdown",
   "metadata": {},
   "source": [
    "# if Single-selection statement\n",
    "\n",
    "Suppose you need to know if you just fail in the exam.\n",
    "\n",
    "## Pseudocode\n",
    "\n",
    "if your grade less than 50\n",
    "\n",
    "    print \"failed\"\n",
    "    \n",
    "Now you are do Single-selection, once true do something otherwise will skip the print line., then the execution move to next statement in the sequence.\n",
    "\n",
    "- Java corresponding code\n",
    "\n",
    "if (grade < 50)\n",
    "\n",
    "    System.out.println(\"Failed\");\n",
    "\n",
    "\n"
   ]
  },
  {
   "cell_type": "markdown",
   "metadata": {},
   "source": [
    "- UML Graph\n",
    "\n",
    "\n",
    "<img src=\"UML/uml_ch_4_selction1.png\">\n",
    "\n",
    "\n",
    "As you can see it print **Failed** when the condition is **True**, then go to final statement (terminate program). other wise terminate the program go to final statement."
   ]
  },
  {
   "cell_type": "markdown",
   "metadata": {},
   "source": [
    "# if ... else Double-selection statement\n",
    "\n",
    "Suppose you need to know if you pass **or** failed in the exam.\n",
    "\n",
    "## Pseudocode\n",
    "\n",
    "if your grade less than 50\n",
    "\n",
    "    print \"failed\"\n",
    "    \n",
    "else\n",
    "\n",
    "    print \"passed\"\n",
    "    \n",
    "Now you are do Double-selection, once true do something else do another thing., then the execution move to next statement in the sequence.\n",
    "\n",
    "- Java corresponding code\n",
    "\n",
    "if (grade < 50)\n",
    "\n",
    "    System.out.println(\"Failed\");\n",
    "    \n",
    "else\n",
    "\n",
    "    System.out.println(\"Passed\");"
   ]
  },
  {
   "cell_type": "markdown",
   "metadata": {},
   "source": [
    "    \n",
    "- UML Graph\n",
    "\n",
    "<img src=\"UML/double_ch_4_ifelse.png\">\n",
    "\n",
    "\n",
    "As you can see it print **Failed** when the condition is **True**, then go to final statement (terminate program). else ir print **Passed** then go to final statement (terminate program)."
   ]
  },
  {
   "cell_type": "raw",
   "metadata": {},
   "source": [
    "# Nested if .. else statements (Multiple Selection)\n",
    "\n",
    "We can have if .. else statements inside another if .. else statements.\n",
    "\n",
    "Like if you need to see what grade from [A, B, C, D, F] you have get then.\n",
    "\n",
    "\n",
    "- Pseudocode\n",
    "\n",
    "if your grade greater than or equal to 90\n",
    "\n",
    "    print \"A\"\n",
    "else\n",
    "    if grade greater than or equal to 80\n",
    "        print \"B\"\n",
    "    else\n",
    "        if grade greater than or equal to 70\n",
    "            print \"C\"\n",
    "        else\n",
    "            if grade greater than or equal to 60\n",
    "                print \"D\"\n",
    "            else\n",
    "                print \"F\"\n",
    "    \n",
    "Now you are do multiple-selection, once true do something else do another thing., then the execution move to next statement in the sequence.\n",
    "\n",
    "- Java corresponding code\n",
    "\n",
    "if (grade >= 90)\n",
    "    System.out.println(\"A\");\n",
    "else\n",
    "    if (grade >= 80)\n",
    "        System.out.println(\"B\");\n",
    "    else\n",
    "        if (grade >= 70)\n",
    "            System.out.println(\"C\");\n",
    "        else\n",
    "            if (grade >= 60)\n",
    "                System.out.println(\"D\");\n",
    "            else\n",
    "                System.out.println(\"F\");\n",
    "                \n",
    "- Another good form \n",
    "if (grade >= 90)\n",
    "    System.out.println(\"A\");\n",
    "else if (grade >= 80)\n",
    "    System.out.println(\"B\");\n",
    "else if (grade >= 70)\n",
    "    System.out.println(\"C\");\n",
    "else if (grade >= 60)\n",
    "    System.out.println(\"D\");\n",
    "else\n",
    "    System.out.println(\"F\");\n",
    "    \n",
    "\n"
   ]
  },
  {
   "cell_type": "raw",
   "metadata": {},
   "source": [
    "# Dangling-else problem\n",
    "\n",
    "if (x> 5)\n",
    "    if(y > 5)\n",
    "        System.out.println(\"X and Y are > 5\");\n",
    "else\n",
    "    System.out.println(\"X is <= 5\");\n",
    "    \n",
    "    \n",
    "The else is associated with nested if(second if which is if y>5) even you have some indetation, java ignore these indentation unless you specify this in {} bracases, because java compiler always associates an else with immeditaly preceding if.\n",
    "\n",
    "In this case if x > 5 and y not > 5 it will print x <= 5.\n",
    "\n",
    "So like in this case we can do it like that:\n",
    "\n",
    "if (x> 5)\n",
    "{\n",
    "    if(y > 5)\n",
    "        System.out.println(\"X and Y are > 5\");\n",
    "}\n",
    "else\n",
    "    System.out.println(\"X is <= 5\");"
   ]
  },
  {
   "cell_type": "raw",
   "metadata": {},
   "source": [
    "# Block of Code\n",
    "\n",
    "Each if or else or else if except that you have either one-line or block of lines, one line then no need to {}, but multiple line or block of code associated should have {}, and in general have {}.\n",
    "\n",
    "like this java code:\n",
    "\n",
    "if(grade >= 60)\n",
    "    System.out.println(\"Passed\");\n",
    "else\n",
    "{\n",
    "    System.out.println(\"Falied\");\n",
    "    System.out.println(\"You should take this course again\");\n",
    "}\n",
    "\n"
   ]
  },
  {
   "cell_type": "markdown",
   "metadata": {},
   "source": [
    "# Condition Operation\n",
    "\n",
    "As java provide you with **Unary** and **Binary** operator it also provide us with **ternary** operator, which is **?:** and it work with **Three operands, and write as follow:\n",
    "\n",
    "- Before **?** should have a condation like :(grade >= 60). (first operand)\n",
    "- After **?** Should have what you need in case of **True** like: System.out.println(\"Passed\"); (second operand)\n",
    "- After **:** Should have what you need in case of **False** like: System.out.println(\"Falied\"); (third operand)\n",
    "\n",
    "- Java Code\n",
    "\n",
    "**System.out.println(grade >= 60 ? \"Passed\" : \"\"Falied\");**\n",
    "\n"
   ]
  },
  {
   "cell_type": "markdown",
   "metadata": {},
   "source": [
    "# Student Class using if .. else statements\n",
    "\n",
    "Class Student is a class that store instance variables student name and the average of the grades,\n",
    "provide methods to manipulate these instance variables.\n",
    "\n",
    "Student class that contain:\n",
    "\t\n",
    "\tInstance private Variables:\n",
    "\t\t- name: String\n",
    "\t\t- Average: double\n",
    "\n",
    "\tConstructors:\n",
    "\t\t<<Constructor 1>> Student(name: String, average: double)\n",
    "\n",
    "\tpublic Methods:\n",
    "\t\t+ setName(name :String)\n",
    "\t\t+ getName(): String\n",
    "\t\t+ setAverage(average: double)\n",
    "\t\t+ getAverage(): double\n",
    "\t\t+ getBalance(): double\n",
    "\t\t+ getLetterGrade(): char\n",
    "\n",
    "#### Look at **java apps** direction for class **Student** and **Student Test** for the code, all of the code are documented.\n",
    "\n",
    "<img src=\"UML/app1.png\">"
   ]
  },
  {
   "cell_type": "markdown",
   "metadata": {},
   "source": [
    "# While Repertition Statement\n",
    "\n",
    "# Repetition Statement (While)\n",
    "\n",
    "One of the Repetition Statement is **while** which allow you to repeat some statement for **0** or **more**, depends on the state you in, while it still true the statements are executed.\n",
    "\n",
    "The statement may be just a single statement or group of statements called **Block**, but it's common to use the body braces in general.\n",
    "\n",
    "**Take care of your condition and body that may cause some of logical error that make the loop infinite.**"
   ]
  },
  {
   "cell_type": "raw",
   "metadata": {
    "collapsed": true
   },
   "source": [
    "\n",
    "- Pseudocode\n",
    "\n",
    "While there are more items on my shopping list\n",
    "    purchase next item and cross it off my list\n",
    "    \n",
    "Java Code to get first power of 3 greater than or equal 100.\n",
    "\n",
    "int product = 100;\n",
    "while(product < 100){\n",
    "    product *= 3;\n",
    "}\n"
   ]
  },
  {
   "cell_type": "markdown",
   "metadata": {},
   "source": [
    "# Note !\n",
    "\n",
    "We should replace **yes** and **no** in last graph of the loops.\n",
    "\n",
    "# Uml\n",
    "\n",
    "<img src=\"UML/app2.png\">\n",
    "\n",
    "**We can distinguish between the decision and merge symbols in the incoming arrow the decision has just one transaction arrow incoming and two or more out from it., also, none of the transaction arrow associated with the merge symbol has a guard condition**"
   ]
  },
  {
   "cell_type": "markdown",
   "metadata": {},
   "source": [
    "# Formulating Algorithm: Counter-Controlled Repetition\n",
    "\n",
    "The most difficult part of solving a problem on a computer is developing the algorithm for the solution. Once a correct algorithm has been specified producing code is straightforward.\n",
    "\n",
    "**Let us discuss a problem of ten student took a quiz and you take a grade for each student from 0-100, then get the average on this quiz.**\n",
    "\n"
   ]
  },
  {
   "cell_type": "raw",
   "metadata": {
    "collapsed": true
   },
   "source": [
    "- Pseudocode\n",
    "\n",
    "Set total to zero\n",
    "Set grade counter to one\n",
    "\n",
    "While grade counter is less than or equal to ten\n",
    "    Prompt the user to enter the next grade\n",
    "    Add the grade to total\n",
    "    Add one to counter\n",
    "\n",
    "Set average to the total divided by 10\n",
    "print the average"
   ]
  },
  {
   "cell_type": "markdown",
   "metadata": {},
   "source": [
    "<img src=\"UML/quiz1.png\">\n",
    "\n",
    "#### Look at **java apps** direction for class **AverageQuiz** for the code, all of the code are documented.\n"
   ]
  },
  {
   "cell_type": "markdown",
   "metadata": {},
   "source": [
    "# Formulating Algorithm: Sentinel-Controlled Repetition\n",
    "\n",
    "Instead of just 10 grades defined by your program, what if we need to read arbitrary numbers ? handle such logical error in previous Algorithm to see what is different ? \n",
    "\n",
    "Sentinel Value or Single Value or Dummy Value or Flag Value, is a value that help you terminate the loop as in counter-contoller when value be larger than 10, but here we will assume value that not included in the user input which will flag of remaining out loop or be in.\n",
    "\n",
    "**Lets Go On**\n",
    "\n",
    "In this Algorithm we will using Top-down approach start with the top (single statement that cover the overall function of the program:\n",
    "\n",
    "- Determine the Average of some quiz for students.\n",
    "\n",
    "After the top which not have sufficient details what we need to write in the program, we go to the **refinement process**, by Divide the top into series of smaller task, in the order should be performed.\n",
    "\n",
    "- Initialization Variables\n",
    "- Input, sum and count the quize grades.\n",
    "- Calculate and print the Average.\n",
    "\n",
    "The **refinement** uses the sequence structure, steps that should be implemented in order one after another.\n",
    "\n",
    "From **Top Statement** to **First Refinement**, we go in the top-down process to next level of refinement, by represent which variables we should use and name it how the input will be taken from the user and other specification to make the written program is straightforward as much I can.\n"
   ]
  },
  {
   "cell_type": "raw",
   "metadata": {},
   "source": [
    "- Pseudocode: just remove the statement of each phase\n",
    "\n",
    "- Initialization Variables\n",
    "    - Initialize total to 0\n",
    "    - Initialize counter to 0\n",
    "\n",
    "- Input, sum and count the quize grades.\n",
    "    - Prompt the user to enter grade\n",
    "    - Input the first grade\n",
    "    - while the user has not enter the Sentinel Value\n",
    "        - Add grade to total\n",
    "        - Add one to counter\n",
    "        - Prompt the user to enter grade\n",
    "        - Input the next grade\n",
    "        \n",
    "- Calculate and print the Average.\n",
    "    - if counter is not equal to 0\n",
    "        - Set the Average to total divided by counter\n",
    "        - print the Average\n",
    "    - else\n",
    "        print No grades have been entered"
   ]
  },
  {
   "cell_type": "markdown",
   "metadata": {},
   "source": [
    "\n",
    "<img src=\"UML/quiz2.png\">\n",
    "\n",
    "#### Look at **java apps** direction for class **AverageQuiz2** for the code, all of the code are documented.\n"
   ]
  },
  {
   "cell_type": "markdown",
   "metadata": {
    "collapsed": true
   },
   "source": [
    "# Formulating Algorithm: Nested Control Statements\n",
    "\n",
    "Consider the problem of ten students have an exam and you need to know the number of students passed the exam and the number of who are not, the passed exam of some student entered as 1 and not passed entered as 2, and if the number of passed the exam is greater than 8 give bouns to the lecturer of the course.\n",
    "\n",
    "Lets devide the problem into top-down and the three phases we mentioned above.\n"
   ]
  },
  {
   "cell_type": "raw",
   "metadata": {},
   "source": [
    "# - structure of the program\n",
    "Top-Sentence\n",
    "- Analyze exam result and decide whether a bonus should be paid.\n",
    "\n",
    "The first refinement\n",
    "- Initiation of Variables\n",
    "- Procssing 10 exam result, and count passed or not\n",
    "- Print result of passed and not and if there is a bouns\n",
    "\n",
    "- Pseudocode\n",
    "\n",
    "Initialize passes to zero\n",
    "Initialize failures to zero\n",
    "Initialize student counter to one\n",
    "While student counter is less than or equal to 10\n",
    "    Prompt the user to enter the next exam result\n",
    "    Input the next exam result\n",
    "    \n",
    "    If the student passed\n",
    "        Add one to passes\n",
    "    Else\n",
    "        Add one to failures\n",
    "    Add one to student counter\n",
    "\n",
    "Print the number of passes\n",
    "Print the number of failures\n",
    "\n",
    "If more than eight students passed\n",
    "    Print “Bonus to instructor!”"
   ]
  },
  {
   "cell_type": "markdown",
   "metadata": {},
   "source": [
    "\n",
    "<table><tr>\n",
    "<td> <img src=\"UML/analysis1.png\" > </td>\n",
    "<td> <img src=\"UML/analysis2.png\" /> </td>\n",
    "</tr></table>\n",
    "\n",
    "#### Look at **java apps** direction for class *Analysis* for the code, all of the code are documented.\n"
   ]
  },
  {
   "cell_type": "markdown",
   "metadata": {},
   "source": [
    "# Compound Assignment Operators\n",
    "\n",
    "c = c + 1; can be written as c +=1;\n",
    "\n",
    "Add Value of right side to the variable on the left, then assign the result in the variable on the left.\n",
    "\n",
    "# Increment and Decrement Operators\n",
    "\n",
    "\n",
    "\n",
    "\n",
    "instead of c = c+1; or c +=1;\n",
    "\n",
    "**Unary Operators**\n",
    "\n",
    "We can use Unary to add 1 to variable that we need to increase or decrease by only 1.\n",
    "\n",
    "- ++a Pre-increment (add 1 to a before use it).\n",
    "- --a Pre-decrement (subtrict 1 from a before use it).\n",
    "- a++ Post-increment (\"Use the current value of a in the expressionin which a resides, then incrementa by 1\".). \n",
    "- a-- Post-decrement (\"Use the current value of a in the expressionin which a resides, then incrementa by 1).\n",
    "\n",
    "#### Look at **java apps** direction for class *Increment* for the code, all of the code are documented.\n",
    "\n",
    "<td> <img src=\"UML/increment2.png\" /> </td>\n",
    "\n",
    "\n",
    "# Note !\n",
    "\n",
    "When incrementing or decrementing a variable in a statement by itself, the prefixincrement and postfix increment forms have the same effect, and the prefix decrement andpostfix decrement forms have the same effect.It’s only when a variable appears in the con-text of a larger expression that preincrementing and postincrementing the variable havedifferent effects (and similarly for predecrementing and postdecrementing).\n",
    "\n",
    "**\"Attempting to use the increment or decrement operator on an expression other than one towhich a value can be assigned is a syntax error. For example, writing++(x + 1)is a syntaxerror, because(x + 1)is not a variable.\"**"
   ]
  },
  {
   "cell_type": "markdown",
   "metadata": {},
   "source": [
    "# Operator Precedence and Associativity\n",
    "\n",
    "<td> <img src=\"UML/precidence1.png\" /> </td>\n"
   ]
  },
  {
   "cell_type": "markdown",
   "metadata": {},
   "source": [
    "# Optional GUI see java codes direction\n"
   ]
  },
  {
   "cell_type": "code",
   "execution_count": null,
   "metadata": {
    "collapsed": true
   },
   "outputs": [],
   "source": []
  }
 ],
 "metadata": {
  "kernelspec": {
   "display_name": "Python 3",
   "language": "python",
   "name": "python3"
  },
  "language_info": {
   "codemirror_mode": {
    "name": "ipython",
    "version": 3
   },
   "file_extension": ".py",
   "mimetype": "text/x-python",
   "name": "python",
   "nbconvert_exporter": "python",
   "pygments_lexer": "ipython3",
   "version": "3.6.3"
  }
 },
 "nbformat": 4,
 "nbformat_minor": 2
}
