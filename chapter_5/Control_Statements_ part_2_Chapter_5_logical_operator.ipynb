{
 "cells": [
  {
   "cell_type": "markdown",
   "metadata": {},
   "source": [
    "# Java How to Program\n",
    "\n",
    "## Early Objects\n",
    "\n",
    "## TENTH EDITION\n",
    "\n",
    "### Paul Deitel & Harvey Deitel\n",
    "\n",
    "## Chapter 5 Control Statements: Part 2; "
   ]
  },
  {
   "cell_type": "markdown",
   "metadata": {},
   "source": [
    "# Essential of Counter Control\n",
    "\n",
    "As we meniotned While loop in chapter 4, we can divide the while loop into:\n",
    "\n",
    "- A control variable (for loop counter).\n",
    "- The initial value of the control variable.\n",
    "- The increment by which the control variable is modified.\n",
    "- The loop-continuation condition that determines if looping should continue.\n",
    "\n",
    "# APP Example\n",
    "\n",
    "#### Look at **java apps** direction for class *WhileCounter* for the code, all of the code are documented.\n",
    "\n",
    "<td> <img src=\"UML/1.png\" /> </td>\n"
   ]
  },
  {
   "cell_type": "markdown",
   "metadata": {
    "collapsed": true
   },
   "source": [
    "# For Repetition Staement\n",
    "\n",
    "The same as while but instead of writing it in different lines in the code we can specify everything in the form header So the 4 lines here:\n",
    "\n",
    "- A control variable (for loop counter).\n",
    "- The initial value of the control variable.\n",
    "- The increment by which the control variable is modified.\n",
    "- The loop-continuation condition that determines if looping should continue.\n",
    "\n",
    "can be in just one line:\n",
    "for (int counter = 1; counter <= 10; counter++)\n",
    "\n",
    "But how it Evaluated is also like while first, we set counter to 1 before the while loop, then this statement is just implemented just once, then the same in for **int counter = 1** is just work for once, then the next is that evaluate the condition as in while, after that the code enter the while body, so as well as in for it will enter the body then return to the increment, then go to evaluate, then the body, then increment, then evaluate and so on, until reach counter to 11 will be breaking the loop.\n",
    "\n",
    "<td> <img src=\"UML/2.png\" /> </td>\n"
   ]
  },
  {
   "cell_type": "markdown",
   "metadata": {},
   "source": [
    "# Scope of counter variable from while to for\n",
    "\n",
    "In While we define and initialize counter variable out of the loop so it will be available to use inside the main method from the line it's created in, but in for it initialized with the for header, so it can just use from the header to end of the loop body.\n",
    "\n",
    "# for(;;)\n",
    "\n",
    "As in while we can define the counter our of the loop then evaluate inside the for the body to break when you need, them increment at the end.\n",
    "\n",
    "- for (int j = x; j <= 4 * x * y; j += y / x)\n",
    "\n",
    "If we return to chapter 4 in the table of precedence we will see that the *, / are implemented first, so 4 * x * y is implemented then check if j <= (the result of 4 * x * y).\n",
    "\n",
    "# Tip\n",
    "\n",
    "- Using semicolon after the for header like for (int counter = 1; counter <= 10; counter++); means empty body\n",
    "- Take care of condition to avoid infinity loop \n",
    "- Avoid to use the counter-control in your body use it just for the loop.\n",
    "\n",
    "# For UML\n",
    "\n",
    "\n",
    "<td> <img src=\"UML/4.png\" /> </td>\n",
    "\n",
    "#### Look at **java apps** direction for class *ForCounter* for the code, all of the code are documented.\n"
   ]
  },
  {
   "cell_type": "markdown",
   "metadata": {},
   "source": [
    "# Examples using for statements\n",
    "\n",
    "Looking for different sumattion problem in different ways at  **java apps** direction for class *DiffSumSameProblem* \n",
    "\n",
    "<td> <img src=\"UML/5.png\" /> </td>\n"
   ]
  },
  {
   "cell_type": "markdown",
   "metadata": {},
   "source": [
    "# Application: Compound-interest calculation\n",
    "\n",
    "- Read the problem statement from the book in page 202, then check **java apps** direction for class *Interest*\n",
    "\n",
    "<td> <img src=\"UML/6.png\" /> </td>\n"
   ]
  },
  {
   "cell_type": "markdown",
   "metadata": {},
   "source": [
    "# Do while Repetition statement\n",
    "\n",
    "While and for can implement body for zero or more times so if counter = 1 then we evaluate counter < 1 it will break the loop directly, but **do** implement the body for one or more, because we enter body first, then check the control counter.\n",
    "\n",
    "# DO While UML\n",
    "\n",
    "<td> <img src=\"UML/7.png\" /> </td>\n",
    "\n",
    "#### Look at **java apps** direction for class *DOWhileTest* for the code, all of the code are documented.\n",
    "\n",
    "<td> <img src=\"UML/8.png\" /> </td>\n"
   ]
  },
  {
   "cell_type": "markdown",
   "metadata": {
    "collapsed": true
   },
   "source": [
    "# Switch Multiple Selection\n",
    "\n",
    "The switchmultiple-selection statement performs different actions based onthe possible values of a constant integral expression of type byte, short, int or char.The expression may also be a String.\n",
    "\n",
    "\n",
    "# Switch UML\n",
    "\n",
    "<td> <img src=\"UML/10.png\" /> </td>\n",
    "\n",
    "#### Look at **java apps** direction for class *LetterGrade* for the code, all of the code are documented.\n",
    "\n",
    "<td> <img src=\"UML/9.png\" /> </td>\n"
   ]
  },
  {
   "cell_type": "markdown",
   "metadata": {},
   "source": [
    "# String with Switch case\n",
    "\n",
    "Class AutoPolicyClass \n",
    "\n",
    "The class contains:\n",
    "\n",
    "•int instance variable accountNumber to store the policy’s account number.\n",
    "\n",
    "•String instance variable makeAndModel  to store the car’s make and model(such as a \"ToyotaCamry\") \n",
    "\n",
    "•String instance variable state to store a two-character state abbreviation representing the state in which the policy is held  (e.g., \"MA\" for Massachusetts)\n",
    "\n",
    "•a constructor that initializes the class’s instance variables  \n",
    "\n",
    "•methods setAccountNumber and getAccountNumber  to set and getan AutoPolicy’s accountNumber instance variable\n",
    "\n",
    "•methods setMakeAndModel and getMakeAndModel  to set and get anAutoPolicy’s makeAndModel instance variable\n",
    "\n",
    "•methods setState  and  getState    to  set  and  get  an  AutoPolicy’sstate instance variable\n",
    "\n",
    "•method isNoFaultState to  return  a  boolean  value  indicatingwhether  the  policy  is  held  in  a  no-fault  auto  insurance  state;  note  the  methodname—the naming convention for a get method that returns a boolean value isto  begin  the  name  with  \"is\"  rather  than  \"get\"  (such  a  method  is  commonlycalled a predicate method).\n",
    "\n",
    "\n",
    "#### Look at **java apps** direction for class *AutoPolicy and AutoPlicyTest* for the code, all of the code are documented.\n",
    "\n",
    "<td> <img src=\"UML/11.png\" /> </td>\n"
   ]
  },
  {
   "cell_type": "markdown",
   "metadata": {},
   "source": [
    "# Break & Continue\n",
    "\n",
    "Break leaves the loop from the line it appears if it executed\n",
    "#### Look at **java apps** direction for class *BreakTest* .\n",
    "**You will seewe evalute if counter == 5 break, then just from 1-4 are displayed.**\n",
    "<td> <img src=\"UML/13.png\" /> </td>\n",
    "\n",
    "Continue return to the next execution in the loop and ignore the rest of the code in this iteration.\n",
    "\n",
    "**You will seewe evalute if counter == 5 continue, then just from 1-9 except 5**\n",
    "<td> <img src=\"UML/12.png\" /> </td>"
   ]
  },
  {
   "cell_type": "code",
   "execution_count": null,
   "metadata": {
    "collapsed": true
   },
   "outputs": [],
   "source": [
    "# Logical Operators\n",
    "\n"
   ]
  }
 ],
 "metadata": {
  "kernelspec": {
   "display_name": "Python 3",
   "language": "python",
   "name": "python3"
  },
  "language_info": {
   "codemirror_mode": {
    "name": "ipython",
    "version": 3
   },
   "file_extension": ".py",
   "mimetype": "text/x-python",
   "name": "python",
   "nbconvert_exporter": "python",
   "pygments_lexer": "ipython3",
   "version": "3.6.3"
  }
 },
 "nbformat": 4,
 "nbformat_minor": 2
}
